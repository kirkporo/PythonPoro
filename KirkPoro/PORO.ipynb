{
 "cells": [
  {
   "cell_type": "code",
   "execution_count": null,
   "metadata": {},
   "outputs": [],
   "source": [
    "import numpy as np\n",
    "import pandas as pd\n",
    "\n",
    "def generate_random_data(num_samples=100, num_features=5):\n",
    "\n",
    "    np.random.seed(42) \n",
    "    random_data = np.random.rand(num_samples, num_features)\n",
    "\n",
    "\n",
    "    columns = [f'Feature_{i+1}' for i in range(num_features)]\n",
    "    df = pd.DataFrame(random_data, columns=columns)\n",
    "\n",
    "    return df\n",
    "\n",
    "def process_random_data(random_data):\n",
    "\n",
    "    numeric_columns = random_data.select_dtypes(include='number')\n",
    "\n",
    "\n",
    "    data_array = numeric_columns.to_numpy()\n",
    "\n",
    "\n",
    "    mean = np.mean(data_array, axis=0)\n",
    "    centered_data = data_array - mean\n",
    "\n",
    "\n",
    "    u, s, vt = np.linalg.svd(centered_data)\n",
    "\n",
    "    pca_result = np.dot(centered_data, vt.T)\n",
    "\n",
    "    # Print the results\n",
    "    print(\"\\nResults for the random dataset:\")\n",
    "    print(\"Principal Components (PCA):\")\n",
    "    print(vt.T)\n",
    "    print(\"\\nExplained Variance Ratio (PCA):\")\n",
    "    explained_variance_ratio = s**2 / np.sum(s**2)\n",
    "    print(explained_variance_ratio)\n",
    "    print(\"\\nSingular Values (SVD):\")\n",
    "    print(s)\n",
    "\n",
    "if __name__ == \"__main__\":\n",
    "\n",
    "    random_data = generate_random_data(num_samples=100, num_features=5)\n",
    "\n",
    "\n",
    "    process_random_data(random_data)"
   ]
  }
 ],
 "metadata": {
  "language_info": {
   "name": "python"
  },
  "orig_nbformat": 4
 },
 "nbformat": 4,
 "nbformat_minor": 2
}
